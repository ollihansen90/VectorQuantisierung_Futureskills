{
  "cells": [
    {
      "cell_type": "markdown",
      "metadata": {
        "id": "view-in-github",
        "colab_type": "text"
      },
      "source": [
        "<a href=\"https://colab.research.google.com/github/ollihansen90/VectorQuantisierung_Futureskills/blob/main/VecQuant_04.ipynb\" target=\"_parent\"><img src=\"https://colab.research.google.com/assets/colab-badge.svg\" alt=\"Open In Colab\"/></a>"
      ]
    },
    {
      "cell_type": "markdown",
      "metadata": {
        "id": "ulFT2GBEYEQI"
      },
      "source": [
        "# Kapitel 4: Voronoi-Diagramme\n",
        "In diesem Notebook sollen Voronoi-Diagramme näher erklärt werden.\n",
        "\n",
        "## Setup\n",
        "Im Setup werden drei Punktewolken generiert und danach eingezeichnet."
      ]
    },
    {
      "cell_type": "code",
      "execution_count": null,
      "metadata": {
        "id": "tfmk5ABgYEQL"
      },
      "outputs": [],
      "source": [
        "# TODO: Auf dem Jupyter-Hub wird die utils.py lokal gespeichert und muss nicht mit wget von Github gezogen werden.\n",
        "!wget -nc -q https://raw.githubusercontent.com/ollihansen90/VectorQuantisierung_Futureskills/main/utils.py"
      ]
    },
    {
      "cell_type": "code",
      "execution_count": null,
      "metadata": {
        "id": "Xda9ZS9PYEQN"
      },
      "outputs": [],
      "source": [
        "import numpy as np\n",
        "import matplotlib.pyplot as plt\n",
        "import matplotlib.colors as mcolors\n",
        "from utils import setup, build_g, plotline\n",
        "\n",
        "textargs = {\n",
        "    \"fontdict\":{\n",
        "        \"size\":20\n",
        "        },\n",
        "    \"ha\":\"center\",\n",
        "    \"va\":\"center\"\n",
        "    }\n",
        "\n",
        "markerargs = {\"s\":50, \"marker\":\"x\", \"linewidth\":3}\n",
        "pointargs = {\"alpha\": 0.3, \"s\": 10}\n",
        "\n",
        "data, vv = setup()\n",
        "\n",
        "plt.figure()\n",
        "plt.scatter(data[:,0], data[:,1], color=3*[0.7])\n",
        "for i in range(3):\n",
        "    plt.text(*vv[i], s=str(i+1), **textargs)\n",
        "plt.axis(\"scaled\")\n",
        "plt.grid()\n",
        "plt.xlabel(\"x\")\n",
        "plt.ylabel(\"y\")\n",
        "plt.show()\n"
      ]
    },
    {
      "cell_type": "markdown",
      "metadata": {
        "id": "os5L6GyXYEQO"
      },
      "source": [
        "## Codebookvektoren und Mittelsenkrechte\n",
        "Die Mittelsenkrechte zwischen zwei Codebookvektoren hat eine ganz besondere Funktion: Die Punkte, die genau auf der Mittelsenkrechten liegen, sind gleich weit von beiden Codebookvektoren entfernt. Im Umkehrschluss gilt also, dass für *alle anderen Punkte* eindeutig bestimmt ist, welcher der beiden Codebookvektoren der nächste ist.\n",
        "\n",
        "### Aufgabe\n",
        "Im folgenden Codeblock können zwei Codebookvektoren gewählt werden, die anschließend zusammen mit ihrer Mittelsenkrechten (der Voronoi-Kante, hier in Rot) engezeichnet werden. Zusätzlich werden die Punkte entsprechend der Voronoi-Menge eingefärbt.\n",
        "\n",
        "Finden Sie zwei Punkte, für die die Cluster 1 und 3 zum selben Codebookvektor gehören."
      ]
    },
    {
      "cell_type": "code",
      "execution_count": null,
      "metadata": {
        "id": "TpafHZgtYEQP"
      },
      "outputs": [],
      "source": [
        "punkt1 = [-1, 4]\n",
        "punkt2 = [1, 1]\n",
        "\n",
        "punkt1 = np.array(punkt1)\n",
        "punkt2 = np.array(punkt2)\n",
        "\n",
        "w, theta, g = build_g(punkt1, punkt2)\n",
        "label = g(data)\n",
        "\n",
        "plt.figure(figsize=[8,8])\n",
        "plt.scatter(data[label==0,0], data[label==0,1], color=\"tab:orange\", **pointargs)\n",
        "plt.scatter(data[label==1,0], data[label==1,1], color=\"tab:blue\", **pointargs)\n",
        "plt.scatter(*punkt1, **markerargs)\n",
        "plt.scatter(*punkt2, **markerargs)\n",
        "plt.axis(\"scaled\")\n",
        "plotline(plt.gca(), w, theta)\n",
        "for i in range(3):\n",
        "    plt.text(*vv[i], s=str(i+1), **textargs)\n",
        "plt.grid()\n",
        "plt.xlabel(\"x\")\n",
        "plt.ylabel(\"y\")\n",
        "plt.show()"
      ]
    }
  ],
  "metadata": {
    "kernelspec": {
      "display_name": "Python 3",
      "language": "python",
      "name": "python3"
    },
    "language_info": {
      "codemirror_mode": {
        "name": "ipython",
        "version": 3
      },
      "file_extension": ".py",
      "mimetype": "text/x-python",
      "name": "python",
      "nbconvert_exporter": "python",
      "pygments_lexer": "ipython3",
      "version": "3.8.7"
    },
    "colab": {
      "provenance": [],
      "include_colab_link": true
    }
  },
  "nbformat": 4,
  "nbformat_minor": 0
}