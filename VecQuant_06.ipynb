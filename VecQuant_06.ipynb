{
  "cells": [
    {
      "cell_type": "markdown",
      "metadata": {
        "id": "view-in-github",
        "colab_type": "text"
      },
      "source": [
        "<a href=\"https://colab.research.google.com/github/ollihansen90/VectorQuantisierung_Futureskills/blob/main/VecQuant_06.ipynb\" target=\"_parent\"><img src=\"https://colab.research.google.com/assets/colab-badge.svg\" alt=\"Open In Colab\"/></a>"
      ]
    },
    {
      "cell_type": "markdown",
      "metadata": {
        "id": "nKZ2O0Ngg4W0"
      },
      "source": [
        "# Kapitel 6: Beispielanwendung Farbreduktion\n",
        "In diesem Notebook soll als Beispielanwendung die Farbreduktion aus den Videos aufgegriffen werden."
      ]
    },
    {
      "cell_type": "code",
      "execution_count": null,
      "metadata": {
        "id": "QjAh3QKyjv6r"
      },
      "outputs": [],
      "source": [
        "# TODO: Auf dem Jupyter-Hub werden die utils.py sowie die Bilder bereits lokal gespeichert und muss nicht mit wget von Github gezogen werden.\n",
        "!wget -nc -q https://raw.githubusercontent.com/ollihansen90/VectorQuantisierung_Futureskills/main/utils.py\n",
        "!wget -nc -q https://raw.githubusercontent.com/ollihansen90/VectorQuantisierung_Futureskills/main/Mohnfeld.jpg\n",
        "!wget -nc -q https://raw.githubusercontent.com/ollihansen90/VectorQuantisierung_Futureskills/main/Rapsfeld.jpg"
      ]
    },
    {
      "cell_type": "code",
      "execution_count": null,
      "metadata": {
        "id": "QLRabYltCB8N"
      },
      "outputs": [],
      "source": [
        "import numpy as np\n",
        "import matplotlib.pyplot as plt\n",
        "%matplotlib inline\n",
        "import ipywidgets\n",
        "from IPython.display import display\n",
        "from skimage import io\n",
        "from utils import load_img, imshow, rgb2hex, hex2rgb, pointwise_sq, plot_img_w_points, kmeans_update, build_vq_img, zugehoerigkeit\n",
        "from tqdm.auto import trange"
      ]
    },
    {
      "cell_type": "markdown",
      "metadata": {
        "id": "8waVVvseYzzq"
      },
      "source": [
        "## Wahl eines Bildes\n",
        "Im folgenden Codeblock kann ein Bild ausgewählt werden. Die Bilder werden hinterher ein wenig verkleinert, sodass die längste Seite maximal 1000 Pixel lang ist. Der Grund hierfür ist, dass die Algorithmen so schneller laufen, ohne dass die Bildqualität groß darunter leidet.\n",
        "\n",
        "TODO: Eigene Bilder? Entweder als Link oder durch Hochladen (das müsste im Jupyter-Hub getestet werden). Außerdem funktioniert das hübsche Auswählen wie hier nur bei Colab."
      ]
    },
    {
      "cell_type": "code",
      "execution_count": null,
      "metadata": {
        "id": "YatwtznfkUj8"
      },
      "outputs": [],
      "source": [
        "Bild = 'Mohnfeld' # @param [\"Mohnfeld\", \"Rapsfeld\"]\n",
        "\n",
        "img = load_img(Bild)\n",
        "\n",
        "imshow(img)\n",
        "\n",
        "colorlist = np.reshape(img, (-1, 3))\n",
        "print(f\"Bild geladen, {len(np.unique(colorlist, axis=0))} unterschiedliche Farben.\")"
      ]
    },
    {
      "cell_type": "markdown",
      "metadata": {
        "id": "STVoRBEhYzzt"
      },
      "source": [
        "## Farben wählen\n",
        "In diesem Abschnitt können die Codebookvektoren \"per Hand\" gewählt werden. Hierfür muss der folgende Codeblock ausgeführt werden, woraufhin zunächst das Bild angezeigt wird und die Farben über einen Colorpicker ausgesucht werden soll.\n",
        "\n",
        "*Hinweis:* Dieser Codeblock braucht nur ein Mal ausgeführt zu werden. Sämtliche Farben, wie sie ausgewählt werden, sind anschließend im Arbeitsspeicher, bis die Session beendet wird."
      ]
    },
    {
      "cell_type": "code",
      "execution_count": null,
      "metadata": {
        "id": "DnDSszMe2hEo"
      },
      "outputs": [],
      "source": [
        "#colors = colorlist[np.random.randint(0,len(colorlist), (8,))]\n",
        "colors = np.random.rand(8,3)\n",
        "#print(colors)\n",
        "clist = [ipywidgets.ColorPicker(value=rgb2hex(c-0.001), layout=ipywidgets.Layout(width='100px')) for c in colors]\n",
        "\n",
        "imshow(img)\n",
        "box = ipywidgets.VBox([ipywidgets.HBox(clist[::2]), ipywidgets.HBox(clist[1::2])])\n",
        "display(box)"
      ]
    },
    {
      "cell_type": "markdown",
      "metadata": {
        "id": "sBj9gveoYzzw"
      },
      "source": [
        "## Rekonstruktion \"per Hand\"\n",
        "Die soeben ausgewählten Farben können nun als Quantisierung im Farbraum des Bildes genutzt werden. Der folgende Codeblock führt die Quantisierung automatisch durch und plottet anschließend sowohl das Bild, als auch die zugehörige Punktewolke.\n",
        "\n",
        "### Aufgabe\n",
        "Suchen Sie eine gute Kombination aus Farben, sodass das Bild möglichst gut rekonstruiert wird! Sowohl für Mohn- als auch für Rapsfeld ist es möglich, \"mit bloßem Auge\" Farben zu finden, sodass der Fehler kleiner als 0.2 ist.\n",
        "\n",
        "*Achtung:* Der obere Codeblock muss nicht erneut ausgeführt werden! Werden die Farben geändert, liegen sie bereits im Arbeitsspeicher vor. Anschließend muss der untere Codeblock werden."
      ]
    },
    {
      "cell_type": "code",
      "execution_count": null,
      "metadata": {
        "id": "CR_SjQs3s2Qe"
      },
      "outputs": [],
      "source": [
        "codebook = np.array([hex2rgb(c.value) for c in clist])\n",
        "dists = pointwise_sq(colorlist, codebook)\n",
        "naechster = np.argmin(dists, axis=-1)\n",
        "img_neu_list = codebook[naechster]\n",
        "img_neu = np.reshape(img_neu_list, img.shape)\n",
        "\n",
        "print(\"Bild (links) mit Farbraum als Punktewolke (rechts)\")\n",
        "plot_img_w_points(img)\n",
        "\n",
        "print(\"Quantisiertes Bild (links) mit zugehöriger Punktewolke (rechts)\")\n",
        "print(\"Der Fehler beträgt\", np.mean(np.sqrt(np.sum((img_neu_list-colorlist)**2, axis=-1))))\n",
        "plot_img_w_points(img_neu, [np.unique(colorlist, axis=0)[::20], codebook[np.argmin(pointwise_sq(np.unique(colorlist, axis=0), codebook), axis=-1)[::20]]])"
      ]
    },
    {
      "cell_type": "markdown",
      "metadata": {
        "id": "6Ws5VQcvYzz0"
      },
      "source": [
        "## Rekonstruktion durch kMeans\n",
        "Abschließend möchten wir uns ansehen, was der kMeans-Algorithmus erreichen kann. Hierfür werden zunächst die Codebookvektoren zufällig initialisiert und danach vom Algorithmus angepasst. Damit der Algorithmus nicht unendlich lange weiterläuft, wird er abgebrochen, sobald sich die Codebookvektoren nur noch wenig verändern.\n",
        "\n",
        "### Aufgabe\n",
        "Testen Sie den Algorithmus auch mit anderen Werten für $k$! Ab wann ist kaum noch ein Unterschied zwischen echtem und rekonstruierten Bild zu sehen?"
      ]
    },
    {
      "cell_type": "code",
      "execution_count": null,
      "metadata": {
        "id": "v2BSBUmQYzz1"
      },
      "outputs": [],
      "source": [
        "k = 8\n",
        "\n",
        "max_epochs = 10\n",
        "codebook = np.random.rand(k, 3)\n",
        "\n",
        "img_neu = build_vq_img(colorlist, codebook, shape=img.shape)\n",
        "_, error = zugehoerigkeit(codebook, colorlist)\n",
        "print(f\"Bild mit {k} unterschiedlichen Farben hat bei Initialisierung einen Fehler von {error}\")\n",
        "plot_img_w_points(img_neu, [np.unique(colorlist, axis=0)[::20], codebook[np.argmin(pointwise_sq(np.unique(colorlist, axis=0), codebook), axis=-1)[::20]]])\n",
        "\n",
        "errorlist = []\n",
        "for epoch in trange(max_epochs):\n",
        "    cb_alt = codebook.copy()\n",
        "    codebook, error = kmeans_update(codebook, colorlist)\n",
        "    errorlist.append(error)\n",
        "    if np.max(np.sum((cb_alt-codebook)**2, axis=-1))<1e-3:\n",
        "        break\n",
        "\n",
        "\n",
        "plt.figure()\n",
        "plt.plot(errorlist)\n",
        "plt.title(\"Fehler\")\n",
        "plt.show()\n",
        "\n",
        "img_neu = build_vq_img(colorlist, codebook, shape=img.shape)\n",
        "print(f\"Bild mit {k} unterschiedlichen Farben hat am Ende einen Fehler von {errorlist[-1]}\")\n",
        "plot_img_w_points(img_neu, [np.unique(colorlist, axis=0)[::20], codebook[np.argmin(pointwise_sq(np.unique(colorlist, axis=0), codebook), axis=-1)[::20]]])"
      ]
    }
  ],
  "metadata": {
    "colab": {
      "provenance": [],
      "include_colab_link": true
    },
    "kernelspec": {
      "display_name": "Python 3",
      "name": "python3"
    },
    "language_info": {
      "codemirror_mode": {
        "name": "ipython",
        "version": 3
      },
      "file_extension": ".py",
      "mimetype": "text/x-python",
      "name": "python",
      "nbconvert_exporter": "python",
      "pygments_lexer": "ipython3",
      "version": "3.10.7"
    }
  },
  "nbformat": 4,
  "nbformat_minor": 0
}