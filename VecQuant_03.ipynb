{
  "cells": [
    {
      "cell_type": "markdown",
      "metadata": {
        "id": "view-in-github",
        "colab_type": "text"
      },
      "source": [
        "<a href=\"https://colab.research.google.com/github/ollihansen90/VectorQuantisierung_Futureskills/blob/main/VecQuant_03.ipynb\" target=\"_parent\"><img src=\"https://colab.research.google.com/assets/colab-badge.svg\" alt=\"Open In Colab\"/></a>"
      ]
    },
    {
      "cell_type": "markdown",
      "metadata": {
        "id": "TfWrEZDXXsdj"
      },
      "source": [
        "# Kapitel 3: Mathematische Grundlagen\n",
        "In diesem Notebook sollen die mathematischen Grundlagen für die Vektorquantisierung behandelt werden.\n",
        "\n",
        "## Setup\n",
        "Im Setup werden drei Punktewolken generiert und danach eingezeichnet."
      ]
    },
    {
      "cell_type": "code",
      "execution_count": null,
      "metadata": {
        "id": "yqRfLk_2Xsdl"
      },
      "outputs": [],
      "source": [
        "# TODO: Auf dem Jupyter-Hub wird die utils.py lokal gespeichert und muss nicht mit wget von Github gezogen werden.\n",
        "!wget -nc -q https://raw.githubusercontent.com/ollihansen90/VectorQuantisierung_Futureskills/main/utils.py"
      ]
    },
    {
      "cell_type": "code",
      "execution_count": null,
      "metadata": {
        "id": "8_IvEbb7Xsdm"
      },
      "outputs": [],
      "source": [
        "import numpy as np\n",
        "import matplotlib.pyplot as plt\n",
        "from utils import setup\n",
        "\n",
        "data, _ = setup()\n",
        "\n",
        "plt.figure()\n",
        "plt.scatter(data[:,0], data[:,1])\n",
        "\n",
        "plt.axis(\"scaled\")\n",
        "plt.grid();plt.xlabel(\"x\");plt.ylabel(\"y\")\n",
        "plt.show()"
      ]
    },
    {
      "cell_type": "markdown",
      "metadata": {
        "id": "vxYOrPlhXsdn"
      },
      "source": [
        "## Der Mittelwert\n",
        "Für die spätere Berechnung von Clusterzentren werden die Schwerpunkte\n",
        "\n",
        "Im folgenden Codeblock wird der Mittelwert von Punktewolken \"per Hand\" berechnet. Hierbei werden zunächst die Punkte alle aufsummiert. Im Anschluss wird diese Summe durch die Anzahl der Punkte geteilt, um den Mittelwert zu erhalten.\n",
        "\n",
        "Beim Generieren des Clusters oben rechts wurden Punkte aus einer Normalverteilung gezogen, die den Mittelwert `[5,5]` hat. Der sich ergebene Mittelwert sollte also nah an diesem Vektor liegen. Warum ist der Mittelwert nicht *genau* auf `[5,5]`? Es handelt sich bei dem Mittelwert, wie er hier berechnet wird, lediglich um eine *Schätzung*. Wären für das Cluster unendlich viele Punkte gegeben, so wäre auch der berchnete Mittelwert `[5,5]`."
      ]
    },
    {
      "cell_type": "code",
      "execution_count": null,
      "metadata": {
        "id": "QVf9nctQXsdo"
      },
      "outputs": [],
      "source": [
        "# Mittelwert Blob 1\n",
        "summe = np.zeros(2)\n",
        "blob1 = data[:int(len(data)/3)]\n",
        "\n",
        "for point in blob1:\n",
        "    summe = summe+point\n",
        "mittelwert = summe/len(blob1)\n",
        "\n",
        "print(mittelwert)\n",
        "\n",
        "plt.figure()\n",
        "plt.scatter(data[:,0], data[:,1])\n",
        "plt.scatter(*mittelwert)\n",
        "plt.axis(\"scaled\")\n",
        "plt.grid();plt.xlabel(\"x\");plt.ylabel(\"y\")\n",
        "plt.show()"
      ]
    },
    {
      "cell_type": "markdown",
      "metadata": {
        "id": "A0oGBRmfXsdp"
      },
      "source": [
        "## Exponentielles Mittel\n",
        "Es gibt Umstände, unter denen zum Zeitpunkt der Berechnung des Mittelwertes nicht alle Datenpunkte vorliegen. Das klassische Beispiel hier wäre ein Datensatz als Zeitreihe, wie beispielsweise das Wetter. Soll der Mittelwert der Temperatur berechnet werden, so kann nicht heute schon auf die Temperatur von morgen zugegriffen werden.\n",
        "\n",
        "Für diesen Fall gibt es das *exponentielle Mittel* (engl. Exponential Moving Average, kurz EMA). Die Idee beim exponentiellen Mittel ist, dass der bisherige Mittelwert nur leicht in Richtung des aktuellen Punktes verschoben wird. Beim Wetterbeispiel könnte das so aussehen, dass wir für diese Woche bereits einen EMA von 20°C bestimmt haben. Die heutige Temperatur beträgt 24°C, wir aktualisieren den EMA also leicht nach oben auf 20.4°C.\n",
        "\n",
        "Mathematisch wird diese Formel rekursiv aufgestellt:\n",
        "\n",
        "$$x_{neu}=x_{alt}+0.1\\cdot(x_{heute}-x_{alt}) = 20+0.1\\cdot(24-20)=20.4$$\n",
        "\n",
        "Bei $x_{neu}$ und $x_{alt}$ handelt es sich um die Temperaturen laut exponentiellem Mittel, $x_{heute}$ ist die heutige Temperatur. $x_{heute}-x_{alt}$ ist die Temperaturdifferenz, über die das neue Mittel angepasst wird.\n",
        "\n",
        "### Aufgabe\n",
        "Im folgenden Codeblock wird der Mittelwert iterativ über das exponentielle Mittel angepasst. Hierbei läuft die Anpassung über zwei $Epochen$. Eine Epoche ist so definiert, dass jeder Punkt in dem Datensatz (hier nur das Cluster oben rechts) ein Mal für einen Updateschritt genutzt wird.\n",
        "\n",
        "Wählen Sie unterschiedliche Startwerte für das exponentielle Mittel und beobachten Sie, wie das exponentielle mittel gegen das Cluster oben rechts konvergiert."
      ]
    },
    {
      "cell_type": "code",
      "execution_count": null,
      "metadata": {
        "id": "v99F5jFOXsdq"
      },
      "outputs": [],
      "source": [
        "# Mittelwert exponentiell Blob 1\n",
        "n_epochs = 2\n",
        "startwert = np.array([-10,10])\n",
        "\n",
        "mittelwertliste = np.zeros([n_epochs*len(blob1),2])\n",
        "mittelwert = startwert\n",
        "lr = 0.1\n",
        "t = 0\n",
        "for epoch in range(n_epochs):\n",
        "    for i, point in enumerate(blob1[np.random.permutation(len(blob1))]):\n",
        "        mittelwert = mittelwert+lr*(point-mittelwert)\n",
        "        mittelwertliste[t] = mittelwert\n",
        "        t += 1\n",
        "\n",
        "print(mittelwert)\n",
        "plt.figure()\n",
        "plt.scatter(data[:,0], data[:,1])\n",
        "plt.plot(mittelwertliste[:,0], mittelwertliste[:,1], \"tab:orange\")\n",
        "plt.scatter(mittelwert[0], mittelwert[1])\n",
        "plt.axis(\"scaled\")\n",
        "plt.grid();plt.xlabel(\"x\");plt.ylabel(\"y\")\n",
        "plt.show()"
      ]
    }
  ],
  "metadata": {
    "kernelspec": {
      "display_name": "Python 3",
      "language": "python",
      "name": "python3"
    },
    "language_info": {
      "codemirror_mode": {
        "name": "ipython",
        "version": 3
      },
      "file_extension": ".py",
      "mimetype": "text/x-python",
      "name": "python",
      "nbconvert_exporter": "python",
      "pygments_lexer": "ipython3",
      "version": "3.10.7"
    },
    "colab": {
      "provenance": [],
      "include_colab_link": true
    }
  },
  "nbformat": 4,
  "nbformat_minor": 0
}