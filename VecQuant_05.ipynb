{
  "cells": [
    {
      "cell_type": "markdown",
      "metadata": {
        "id": "view-in-github",
        "colab_type": "text"
      },
      "source": [
        "<a href=\"https://colab.research.google.com/github/ollihansen90/VectorQuantisierung_Futureskills/blob/main/VecQuant_05.ipynb\" target=\"_parent\"><img src=\"https://colab.research.google.com/assets/colab-badge.svg\" alt=\"Open In Colab\"/></a>"
      ]
    },
    {
      "cell_type": "markdown",
      "metadata": {
        "id": "W83d-n4hYTeM"
      },
      "source": [
        "# Kapitel 5: Der kMeans-Algorithmus\n",
        "In diesem Notebook soll der kMeans-Algorithmus angewendet werden.\n",
        "\n",
        "## Setup"
      ]
    },
    {
      "cell_type": "code",
      "execution_count": null,
      "metadata": {
        "id": "E_b7xmP2YTeP"
      },
      "outputs": [],
      "source": [
        "# TODO: Auf dem Jupyter-Hub wird die utils.py lokal gespeichert und muss nicht mit wget von Github gezogen werden.\n",
        "!wget -nc -q https://raw.githubusercontent.com/ollihansen90/VectorQuantisierung_Futureskills/main/utils.py"
      ]
    },
    {
      "cell_type": "code",
      "execution_count": null,
      "metadata": {
        "id": "aSfkQd7gYTeR"
      },
      "outputs": [],
      "source": [
        "import numpy as np\n",
        "import matplotlib.pyplot as plt\n",
        "from utils import setup, kmeans_update, zugehoerigkeit, draw\n",
        "\n",
        "data, _ = setup()\n",
        "\n",
        "plt.figure()\n",
        "plt.scatter(data[:,0], data[:,1])\n",
        "plt.show()"
      ]
    },
    {
      "cell_type": "markdown",
      "metadata": {
        "id": "wDJP8m6jYTeS"
      },
      "source": [
        "## kMeans\n",
        "\n",
        "### Der angegebene Fehler\n",
        "Um unterschiedliche Modelle zu vergleichen, bietet es sich an, ein Maß für die Anpassung zu implementieren. Für kMeans ist das denkbar einfach: Je \"besser\" die Codebookvektoren liegen, desto \"näher\" liegen die Codebookvektoren auch an den Punkten! Mit anderen Worten: Gesucht ist der *mittlere Abstand* jedes Punktes zum zugehörigen Codebookvektor.\n",
        "\n",
        "### Aufgabe\n",
        "Testen Sie unterschiedliche Werte für $k$ und vergleichen Sie die Fehler. Was fällt für große $k$ auf?"
      ]
    },
    {
      "cell_type": "code",
      "execution_count": null,
      "metadata": {
        "id": "JuUgvrrTYTeT"
      },
      "outputs": [],
      "source": [
        "k = 10\n",
        "\n",
        "codebook = np.random.rand(k, 2)*(np.max(data, axis=0)-np.min(data, axis=0))+np.min(data, axis=0)\n",
        "label, error = zugehoerigkeit(codebook, data)\n",
        "print(error)\n",
        "draw(codebook, data, title=\"Epoche 0\")\n",
        "\n",
        "for i in range(3):\n",
        "    codebook, error = kmeans_update(codebook, data)\n",
        "    print(f\"Fehler in Epoche {i+1}: {error}\")\n",
        "    draw(codebook, data, title=f\"Epoche {i+1}\")"
      ]
    }
  ],
  "metadata": {
    "kernelspec": {
      "display_name": "Python 3",
      "language": "python",
      "name": "python3"
    },
    "language_info": {
      "codemirror_mode": {
        "name": "ipython",
        "version": 3
      },
      "file_extension": ".py",
      "mimetype": "text/x-python",
      "name": "python",
      "nbconvert_exporter": "python",
      "pygments_lexer": "ipython3",
      "version": "3.8.7"
    },
    "colab": {
      "provenance": [],
      "include_colab_link": true
    }
  },
  "nbformat": 4,
  "nbformat_minor": 0
}